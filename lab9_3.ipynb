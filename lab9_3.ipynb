{
 "cells": [
  {
   "cell_type": "code",
   "execution_count": 1,
   "metadata": {},
   "outputs": [],
   "source": [
    "import pandas as pd\n",
    "import numpy as np"
   ]
  },
  {
   "cell_type": "code",
   "execution_count": 2,
   "metadata": {},
   "outputs": [],
   "source": [
    "# Demo for Zone 1160\n",
    "flow=pd.read_csv('/home/datascience/Downloads/cleaning1/1160/flow.tsv', names=['f1','f2','f3'],sep='\\t',na_values=['-'])\n",
    "occupancy=pd.read_csv('/home/datascience/Downloads/cleaning1/1160/occupancy.tsv', names=['o1','o2','o3'],sep='\\t',na_values=['-'])\n",
    "speed=pd.read_csv('/home/datascience/Downloads/cleaning1/1160/speed.tsv', names=['s1','s2','s3'],sep='\\t',na_values=['-'])\n",
    "v_df=pd.concat([flow,speed,occupancy],axis=1)\n",
    "v1=v_df[['f1','s1','o1']]\n",
    "v2=v_df[['f2','s2','o2']]\n",
    "v3=v_df[['f3','s3','o3']]\n",
    "\n",
    "#change column name to the same so we can cancat three vectors into one\n",
    "v1.columns=['flow','speed','occupancy']\n",
    "v2.columns=['flow','speed','occupancy']\n",
    "v3.columns=['flow','speed','occupancy']\n",
    "\n",
    "vector=pd.concat([v1,v2,v3],axis=0)\n",
    "vector=vector.reset_index(drop=True)"
   ]
  },
  {
   "cell_type": "code",
   "execution_count": 2,
   "metadata": {},
   "outputs": [],
   "source": [
    "# Demo for Zone 3232\n",
    "flow=pd.read_csv('/home/datascience/Downloads/cleaning1/3232/flow.tsv', names=['f1','f2'],sep='\\t',na_values=['-'])\n",
    "occupancy=pd.read_csv('/home/datascience/Downloads/cleaning1/3232/occupancy.tsv', names=['o1','o2'],sep='\\t',na_values=['-'])\n",
    "speed=pd.read_csv('/home/datascience/Downloads/cleaning1/3232/speed.tsv', names=['s1','s2'],sep='\\t',na_values=['-'])\n",
    "v_df=pd.concat([flow,occupancy,speed],axis=1)\n",
    "v1=v_df[['f1','s1','o1']]\n",
    "v2=v_df[['f2','s2','o2']]\n",
    "#change column name to the same so we can cancat three vectors into one\n",
    "v1.columns=['flow','speed','occupancy']\n",
    "v2.columns=['flow','speed','occupancy']\n",
    "vector=pd.concat([v1,v2],axis=0)\n",
    "vector=vector.reset_index(drop=True)"
   ]
  },
  {
   "cell_type": "code",
   "execution_count": 2,
   "metadata": {},
   "outputs": [],
   "source": [
    "# Demo for Zone 3445\n",
    "flow=pd.read_csv('/home/datascience/Downloads/cleaning1/3445/flow.tsv', names=['f1','f2','f3','f4'],sep='\\t',na_values=['-'])\n",
    "occupancy=pd.read_csv('/home/datascience/Downloads/cleaning1/3445/occupancy.tsv', names=['o1','o2','o3','o4'],sep='\\t',na_values=['-'])\n",
    "speed=pd.read_csv('/home/datascience/Downloads/cleaning1/3445/speed.tsv', names=['s1','s2','s3','s4'],sep='\\t',na_values=['-'])\n",
    "v_df=pd.concat([flow,occupancy,speed],axis=1)\n",
    "v1=v_df[['f1','s1','o1']]\n",
    "v2=v_df[['f2','s2','o2']]\n",
    "v3=v_df[['f3','s3','o3']]\n",
    "v4=v_df[['f4','s4','o4']]\n",
    "#change column name to the same so we can cancat three vectors into one\n",
    "v1.columns=['flow','speed','occupancy']\n",
    "v2.columns=['flow','speed','occupancy']\n",
    "v3.columns=['flow','speed','occupancy']\n",
    "v4.columns=['flow','speed','occupancy']\n",
    "vector=pd.concat([v1,v2,v3,v4],axis=0)\n",
    "vector=vector.reset_index(drop=True)"
   ]
  },
  {
   "cell_type": "code",
   "execution_count": null,
   "metadata": {},
   "outputs": [],
   "source": [
    "# Demo for Zone 3451\n",
    "flow=pd.read_csv('/home/datascience/Downloads/cleaning1/3451/flow.tsv', names=['f1'],sep='\\t',na_values=['-'])\n",
    "occupancy=pd.read_csv('/home/datascience/Downloads/cleaning1/3451/occupancy.tsv', names=['o1'],sep='\\t',na_values=['-'])\n",
    "speed=pd.read_csv('/home/datascience/Downloads/cleaning1/3451/speed.tsv', names=['s1'],sep='\\t',na_values=['-'])\n",
    "vector=pd.concat([flow,speed,occupancy],axis=1)\n",
    "vector.columns=['flow','speed','occupancy']"
   ]
  },
  {
   "cell_type": "code",
   "execution_count": 2,
   "metadata": {},
   "outputs": [],
   "source": [
    "# Demo for Zone 3532\n",
    "flow=pd.read_csv('/home/datascience/Downloads/cleaning1/3532/flow.tsv', names=['f1','f2','f3','f4','f5','f6'],sep='\\t',na_values=['-'])\n",
    "occupancy=pd.read_csv('/home/datascience/Downloads/cleaning1/3532/occupancy.tsv', names=['o1','o2','o3','o4','o5','o6'],sep='\\t',na_values=['-'])\n",
    "speed=pd.read_csv('/home/datascience/Downloads/cleaning1/3532/speed.tsv', names=['s1','s2','s3','s4','s5','s6'],sep='\\t',na_values=['-'])\n",
    "v_df=pd.concat([flow,occupancy,speed],axis=1)\n",
    "v1=v_df[['f1','s1','o1']]\n",
    "v2=v_df[['f2','s2','o2']]\n",
    "v3=v_df[['f3','s3','o3']]\n",
    "v4=v_df[['f4','s4','o4']]\n",
    "v5=v_df[['f5','s5','o5']]\n",
    "v6=v_df[['f6','s6','o6']]\n",
    "#change column name to the same so we can cancat three vectors into one\n",
    "v1.columns=['flow','speed','occupancy']\n",
    "v2.columns=['flow','speed','occupancy']\n",
    "v3.columns=['flow','speed','occupancy']\n",
    "v4.columns=['flow','speed','occupancy']\n",
    "v5.columns=['flow','speed','occupancy']\n",
    "v6.columns=['flow','speed','occupancy']\n",
    "vector=pd.concat([v1,v2,v3,v4,v5,v6],axis=0)\n",
    "vector=vector.reset_index(drop=True)"
   ]
  },
  {
   "cell_type": "code",
   "execution_count": 3,
   "metadata": {},
   "outputs": [
    {
     "data": {
      "text/plain": [
       "<matplotlib.text.Text at 0x7fd11de7ff50>"
      ]
     },
     "execution_count": 3,
     "metadata": {},
     "output_type": "execute_result"
    },
    {
     "data": {
      "image/png": "[encoded data removed]",
      "text/plain": [
       "<matplotlib.figure.Figure at 0x7fd13d860bd0>"
      ]
     },
     "metadata": {},
     "output_type": "display_data"
    }
   ],
   "source": [
    "import matplotlib.pyplot as plt\n",
    "%matplotlib inline\n",
    "binwidth=3\n",
    "plt.hist(vector['flow'], bins=range(int(min(vector['flow'])), int(max(vector['flow']))+1, binwidth), normed=True)\n",
    "plt.xlabel('Flow')\n",
    "plt.ylabel('Frequency')"
   ]
  },
  {
   "cell_type": "code",
   "execution_count": 4,
   "metadata": {},
   "outputs": [
    {
     "data": {
      "text/plain": [
       "<matplotlib.text.Text at 0x7fd11dcb9410>"
      ]
     },
     "execution_count": 4,
     "metadata": {},
     "output_type": "execute_result"
    },
    {
     "data": {
      "image/png": "[encoded data removed]",
      "text/plain": [
       "<matplotlib.figure.Figure at 0x7fd1496d4b50>"
      ]
     },
     "metadata": {},
     "output_type": "display_data"
    }
   ],
   "source": [
    "import matplotlib.pyplot as plt\n",
    "%matplotlib inline\n",
    "binwidth=3\n",
    "plt.hist(vector['speed'], bins=range(int(min(vector['speed'])), int(max(vector['speed']))+1, binwidth), normed=True)\n",
    "plt.xlabel('Speed')\n",
    "plt.ylabel('Frequency')"
   ]
  },
  {
   "cell_type": "code",
   "execution_count": 5,
   "metadata": {},
   "outputs": [
    {
     "data": {
      "text/plain": [
       "<matplotlib.text.Text at 0x7fd11d82e4d0>"
      ]
     },
     "execution_count": 5,
     "metadata": {},
     "output_type": "execute_result"
    },
    {
     "data": {
      "image/png": "[encoded data removed]",
      "text/plain": [
       "<matplotlib.figure.Figure at 0x7fd11dc44550>"
      ]
     },
     "metadata": {},
     "output_type": "display_data"
    }
   ],
   "source": [
    "import matplotlib.pyplot as plt\n",
    "%matplotlib inline\n",
    "binwidth=3\n",
    "plt.hist(vector['occupancy'], bins=range(int(min(vector['occupancy'])), int(max(vector['occupancy']))+1, binwidth), normed=True)\n",
    "plt.xlabel('Occupancy')\n",
    "plt.ylabel('Frequency')"
   ]
  },
  {
   "cell_type": "code",
   "execution_count": 6,
   "metadata": {},
   "outputs": [
    {
     "data": {
      "text/plain": [
       "255.0"
      ]
     },
     "execution_count": 6,
     "metadata": {},
     "output_type": "execute_result"
    }
   ],
   "source": [
    "max(vector['flow'])"
   ]
  },
  {
   "cell_type": "code",
   "execution_count": 7,
   "metadata": {},
   "outputs": [
    {
     "data": {
      "text/plain": [
       "201.02908608000001"
      ]
     },
     "execution_count": 7,
     "metadata": {},
     "output_type": "execute_result"
    }
   ],
   "source": [
    "max(vector['speed'])"
   ]
  },
  {
   "cell_type": "code",
   "execution_count": 11,
   "metadata": {},
   "outputs": [
    {
     "data": {
      "text/plain": [
       "6298.0"
      ]
     },
     "execution_count": 11,
     "metadata": {},
     "output_type": "execute_result"
    }
   ],
   "source": [
    "max(vector['occupancy'])"
   ]
  },
  {
   "cell_type": "code",
   "execution_count": 10,
   "metadata": {},
   "outputs": [
    {
     "data": {
      "text/plain": [
       "<matplotlib.text.Text at 0x7fd11b6a86d0>"
      ]
     },
     "execution_count": 10,
     "metadata": {},
     "output_type": "execute_result"
    },
    {
     "data": {
      "image/png": "[encoded data removed]",
      "text/plain": [
       "<matplotlib.figure.Figure at 0x7fd11d7f5810>"
      ]
     },
     "metadata": {},
     "output_type": "display_data"
    }
   ],
   "source": [
    "t=vector[vector['occupancy']<=100]\n",
    "import matplotlib.pyplot as plt\n",
    "%matplotlib inline\n",
    "binwidth=3\n",
    "plt.hist(t['occupancy'], bins=range(int(min(t['occupancy'])), int(max(t['occupancy']))+1, binwidth), normed=True)\n",
    "plt.xlabel('Occupancy')\n",
    "plt.ylabel('Frequency')"
   ]
  },
  {
   "cell_type": "code",
   "execution_count": 48,
   "metadata": {},
   "outputs": [],
   "source": [
    "from mpl_toolkits.mplot3d import Axes3D\n",
    "#%matplotlib qt"
   ]
  },
  {
   "cell_type": "code",
   "execution_count": 49,
   "metadata": {},
   "outputs": [
    {
     "data": {
      "image/png": "[encoded data removed]",
      "text/plain": [
       "<matplotlib.figure.Figure at 0x7f1e26b63fd0>"
      ]
     },
     "metadata": {},
     "output_type": "display_data"
    }
   ],
   "source": [
    "threed=plt.figure().gca(projection='3d')\n",
    "threed.scatter(vector1[::100]['f1'], vector1[::100]['o1'], vector1[::100]['s1'])\n",
    "threed.set_xlabel('Flow')\n",
    "threed.set_ylabel('Occupancy')\n",
    "threed.set_zlabel('Speed')\n",
    "plt.show()"
   ]
  },
  {
   "cell_type": "code",
   "execution_count": 9,
   "metadata": {},
   "outputs": [],
   "source": [
    "# Define the interval for zone 1160\n",
    "flow_interval=[0,10,20,30,40,50,75,100,200,250,300]\n",
    "occupancy_interval=[0,20,50,70,90,110,130,160,190,220,250]\n",
    "speed_interval=[0,20,30,40,50,60,70,80,100,200,250]\n",
    "N=10"
   ]
  },
  {
   "cell_type": "code",
   "execution_count": 9,
   "metadata": {},
   "outputs": [],
   "source": [
    "# Define the interval for zone 3232\n",
    "flow_interval=[0,10,20,30,40,80]\n",
    "occupancy_interval=[0,10,20,50,75,110]\n",
    "speed_interval=[0,30,50,60,100,140]\n",
    "N=5"
   ]
  },
  {
   "cell_type": "code",
   "execution_count": 12,
   "metadata": {},
   "outputs": [],
   "source": [
    "# Define the interval for zone 3445\n",
    "flow_interval=[0,10,20,30,40,50,150,260]\n",
    "occupancy_interval=[0,10,20,30,40,80,100,6300]\n",
    "speed_interval=[0,30,50,60,70,100,150,205]\n",
    "N=7"
   ]
  },
  {
   "cell_type": "code",
   "execution_count": null,
   "metadata": {},
   "outputs": [],
   "source": [
    "# Define the interval for zone 3451\n",
    "flow_interval=[0,10,20,30,40,50,75,100,200,250,300]\n",
    "occupancy_interval=[0,20,50,70,90,110,130,160,190,220,250]\n",
    "speed_interval=[0,20,30,40,50,60,70,80,100,200,250]\n",
    "N=10"
   ]
  },
  {
   "cell_type": "code",
   "execution_count": 14,
   "metadata": {},
   "outputs": [],
   "source": [
    "# Define the interval for zone 3532\n",
    "flow_interval=[0,10,20,30,40,60,100]\n",
    "occupancy_interval=[0,10,20,40,60,80,110]\n",
    "speed_interval=[0,30,50,80,100,150,210]\n",
    "N=6"
   ]
  },
  {
   "cell_type": "code",
   "execution_count": 13,
   "metadata": {},
   "outputs": [],
   "source": [
    "box=np.zeros((N,N,N))"
   ]
  },
  {
   "cell_type": "code",
   "execution_count": 11,
   "metadata": {},
   "outputs": [],
   "source": [
    "# del vector['Prob']"
   ]
  },
  {
   "cell_type": "code",
   "execution_count": 14,
   "metadata": {},
   "outputs": [
    {
     "name": "stdout",
     "output_type": "stream",
     "text": [
      "<class 'pandas.core.frame.DataFrame'>\n",
      "Int64Index: 12293540 entries, 0 to 12293539\n",
      "Data columns (total 4 columns):\n",
      "flow         float64\n",
      "speed        float64\n",
      "occupancy    float64\n",
      "Prob         float64\n",
      "dtypes: float64(4)"
     ]
    }
   ],
   "source": [
    "vector['Prob']=0.0\n",
    "vector.info()"
   ]
  },
  {
   "cell_type": "code",
   "execution_count": 15,
   "metadata": {},
   "outputs": [],
   "source": [
    "def binarySearch(alist, item):\n",
    "    first=0\n",
    "    last=len(alist)-1\n",
    "    while(first<last):\n",
    "        midpoint=(first+last)/2\n",
    "        if(alist[midpoint]==item):\n",
    "            return midpoint\n",
    "        else:\n",
    "            if(alist[midpoint]<item):\n",
    "                first=midpoint+1\n",
    "            else:\n",
    "                last=midpoint\n",
    "    if(item>=alist[first]):\n",
    "        return first\n",
    "    else:\n",
    "        return first-1"
   ]
  },
  {
   "cell_type": "code",
   "execution_count": 16,
   "metadata": {},
   "outputs": [],
   "source": [
    "invalid_vector_count = 0;\n",
    "\n",
    "for row in vector.itertuples():\n",
    "    if((row[1]<0) or (row[2]<0) or (row[3]<0) or ((row[1]==0 ) & (row[2]!=0 or row[3]!=0)) or ((row[1]>0) & (row[2]==0) & (row[3]==0))):\n",
    "        invalid_vector_count+=1\n",
    "    else:\n",
    "        box[binarySearch(flow_interval,row[1])][binarySearch(speed_interval, row[2])][binarySearch(occupancy_interval,row[3])] +=1;\n"
   ]
  },
  {
   "cell_type": "code",
   "execution_count": 17,
   "metadata": {},
   "outputs": [
    {
     "data": {
      "text/plain": [
       "363341"
      ]
     },
     "execution_count": 17,
     "metadata": {},
     "output_type": "execute_result"
    }
   ],
   "source": [
    "invalid_vector_count"
   ]
  },
  {
   "cell_type": "code",
   "execution_count": 18,
   "metadata": {},
   "outputs": [
    {
     "data": {
      "text/plain": [
       "12293540"
      ]
     },
     "execution_count": 18,
     "metadata": {},
     "output_type": "execute_result"
    }
   ],
   "source": [
    "len(vector)"
   ]
  },
  {
   "cell_type": "code",
   "execution_count": 19,
   "metadata": {},
   "outputs": [],
   "source": [
    "total_vectors=len(vector)-invalid_vector_count"
   ]
  },
  {
   "cell_type": "code",
   "execution_count": 20,
   "metadata": {},
   "outputs": [],
   "source": [
    "for i in range(0,N):\n",
    "    for j in range(0,N):\n",
    "        for k in range(0,N):\n",
    "            box[i][j][k] /= total_vectors*(speed_interval[k+1]-speed_interval[k])*(occupancy_interval[j+1]-occupancy_interval[j])*(flow_interval[i+1]-flow_interval[i])"
   ]
  },
  {
   "cell_type": "code",
   "execution_count": 21,
   "metadata": {},
   "outputs": [
    {
     "data": {
      "text/plain": [
       "array([[[  2.32994158e-07,   4.74845390e-08,   4.06531358e-08,\n",
       "           4.96219719e-08,   1.63702215e-07,   7.25218414e-08,\n",
       "           4.57204901e-11],\n",
       "        [  6.99946413e-06,   1.41741139e-07,   9.35441228e-08,\n",
       "           2.64035830e-08,   1.95582097e-09,   1.00585078e-10,\n",
       "           0.00000000e+00],\n",
       "        [  3.61966860e-05,   3.11226996e-07,   9.13647794e-08,\n",
       "           2.09552246e-09,   5.58805990e-11,   0.00000000e+00,\n",
       "           0.00000000e+00],\n",
       "        [  2.47379500e-05,   1.72712961e-07,   2.34698516e-08,\n",
       "           4.19104493e-10,   0.00000000e+00,   0.00000000e+00,\n",
       "           0.00000000e+00],\n",
       "        [  1.28093700e-06,   1.06871646e-08,   8.80119435e-10,\n",
       "           0.00000000e+00,   0.00000000e+00,   0.00000000e+00,\n",
       "           0.00000000e+00],\n",
       "        [  4.58500315e-08,   1.04776123e-10,   8.38208985e-11,\n",
       "           0.00000000e+00,   0.00000000e+00,   0.00000000e+00,\n",
       "           3.04803267e-11],\n",
       "        [  1.26181998e-12,   0.00000000e+00,   0.00000000e+00,\n",
       "           0.00000000e+00,   0.00000000e+00,   0.00000000e+00,\n",
       "           0.00000000e+00]],\n",
       "\n",
       "       [[  9.90204215e-08,   2.65251233e-07,   4.10722403e-07,\n",
       "           6.32931605e-07,   1.88577464e-06,   2.89349742e-08,\n",
       "           3.04803267e-11],\n",
       "        [  5.15498526e-06,   3.62659500e-06,   6.24968620e-07,\n",
       "           1.74850394e-07,   1.43054334e-08,   5.02925391e-11,\n",
       "           1.52401634e-11],\n",
       "        [  2.91243256e-05,   1.39338832e-05,   5.09714884e-07,\n",
       "           1.14834631e-08,   4.74985092e-10,   0.00000000e+00,\n",
       "           1.52401634e-11],\n",
       "        [  1.89164489e-05,   7.55691502e-06,   1.33610512e-07,\n",
       "           1.67641797e-09,   5.58805990e-11,   0.00000000e+00,\n",
       "           0.00000000e+00],\n",
       "        [  8.74161166e-07,   3.82757656e-07,   4.27486583e-09,\n",
       "           2.09552246e-11,   0.00000000e+00,   0.00000000e+00,\n",
       "           0.00000000e+00],\n",
       "        [  3.02174339e-08,   3.91862701e-09,   1.25731348e-10,\n",
       "           0.00000000e+00,   0.00000000e+00,   0.00000000e+00,\n",
       "           1.52401634e-11],\n",
       "        [  1.26181998e-12,   0.00000000e+00,   1.35194998e-13,\n",
       "           0.00000000e+00,   0.00000000e+00,   0.00000000e+00,\n",
       "           2.45809087e-14]],\n",
       "\n",
       "       [[  1.38025080e-08,   4.76857092e-07,   2.76231771e-06,\n",
       "           6.70013970e-06,   6.20704930e-06,   5.53217930e-10,\n",
       "           3.04803267e-11],\n",
       "        [  7.46033937e-07,   1.70089367e-05,   2.39006072e-05,\n",
       "           4.98382299e-06,   2.32072128e-07,   0.00000000e+00,\n",
       "           1.52401634e-11],\n",
       "        [  5.12978311e-06,   5.80792910e-05,   2.72410376e-05,\n",
       "           3.16172429e-07,   3.21313444e-09,   0.00000000e+00,\n",
       "           0.00000000e+00],\n",
       "        [  2.66522517e-06,   2.42779689e-05,   7.10424026e-06,\n",
       "           4.22457329e-08,   9.49970184e-10,   0.00000000e+00,\n",
       "           0.00000000e+00],\n",
       "        [  6.00856141e-08,   1.07034049e-06,   2.59048487e-07,\n",
       "           1.65546275e-09,   6.98507488e-11,   0.00000000e+00,\n",
       "           0.00000000e+00],\n",
       "        [  7.54388087e-09,   1.06871646e-08,   4.02340313e-09,\n",
       "           2.09552246e-10,   9.77910483e-11,   0.00000000e+00,\n",
       "           7.62008169e-12],\n",
       "        [  2.70389995e-13,   6.75974988e-14,   1.35194998e-13,\n",
       "           0.00000000e+00,   4.50649992e-14,   0.00000000e+00,\n",
       "           0.00000000e+00]],\n",
       "\n",
       "       [[  1.00585078e-09,   5.24718825e-08,   8.78778300e-07,\n",
       "           5.17602431e-06,   2.09384605e-06,   1.17349258e-10,\n",
       "           0.00000000e+00],\n",
       "        [  2.37492546e-08,   3.03771127e-06,   3.89142713e-05,\n",
       "           1.46666455e-05,   2.28607531e-07,   0.00000000e+00,\n",
       "           0.00000000e+00],\n",
       "        [  1.28022452e-07,   1.66686658e-05,   5.36577806e-05,\n",
       "           2.17213476e-06,   3.04549265e-09,   0.00000000e+00,\n",
       "           0.00000000e+00],\n",
       "        [  8.70899136e-08,   6.49234770e-06,   1.52196120e-05,\n",
       "           2.92032011e-07,   5.58805990e-10,   0.00000000e+00,\n",
       "           0.00000000e+00],\n",
       "        [  3.37379117e-09,   2.04020067e-07,   4.96827421e-07,\n",
       "           6.99904503e-09,   6.98507488e-11,   0.00000000e+00,\n",
       "           0.00000000e+00],\n",
       "        [  9.36000034e-10,   3.12232847e-09,   6.20274649e-09,\n",
       "           5.02925391e-10,   1.39701498e-11,   0.00000000e+00,\n",
       "           0.00000000e+00],\n",
       "        [  9.01299984e-14,   6.75974988e-14,   1.35194998e-13,\n",
       "           0.00000000e+00,   0.00000000e+00,   0.00000000e+00,\n",
       "           0.00000000e+00]],\n",
       "\n",
       "       [[  1.67641797e-10,   2.97564190e-09,   4.62691360e-08,\n",
       "           2.64371114e-07,   7.21977339e-08,   0.00000000e+00,\n",
       "           0.00000000e+00],\n",
       "        [  4.47044792e-09,   8.80119435e-08,   3.57789505e-06,\n",
       "           3.29340692e-06,   2.08714037e-08,   0.00000000e+00,\n",
       "           1.52401634e-11],\n",
       "        [  2.76888368e-08,   5.85153693e-07,   7.66131395e-06,\n",
       "           1.18598189e-06,   8.38208985e-11,   0.00000000e+00,\n",
       "           0.00000000e+00],\n",
       "        [  1.66524185e-08,   1.79670096e-07,   1.64314107e-06,\n",
       "           1.17097795e-07,   5.58805990e-11,   0.00000000e+00,\n",
       "           0.00000000e+00],\n",
       "        [  5.86746290e-10,   5.62647781e-09,   3.46599415e-08,\n",
       "           3.12232847e-09,   0.00000000e+00,   0.00000000e+00,\n",
       "           0.00000000e+00],\n",
       "        [  8.38208985e-11,   1.25731348e-10,   1.04776123e-09,\n",
       "           4.19104493e-11,   0.00000000e+00,   0.00000000e+00,\n",
       "           0.00000000e+00],\n",
       "        [  0.00000000e+00,   0.00000000e+00,   0.00000000e+00,\n",
       "           0.00000000e+00,   0.00000000e+00,   0.00000000e+00,\n",
       "           0.00000000e+00]],\n",
       "\n",
       "       [[  2.79402995e-11,   3.35283594e-11,   4.52632852e-10,\n",
       "           2.51462696e-09,   1.05334929e-09,   0.00000000e+00,\n",
       "           0.00000000e+00],\n",
       "        [  5.30865691e-11,   1.86501499e-09,   1.80214932e-08,\n",
       "           1.73928364e-08,   2.09552246e-10,   0.00000000e+00,\n",
       "           1.52401634e-12],\n",
       "        [  4.07928373e-10,   8.35275254e-09,   3.12065205e-08,\n",
       "           7.24212563e-09,   0.00000000e+00,   0.00000000e+00,\n",
       "           0.00000000e+00],\n",
       "        [  2.09552246e-10,   3.21453146e-09,   7.58579132e-09,\n",
       "           6.28656739e-10,   2.79402995e-12,   0.00000000e+00,\n",
       "           0.00000000e+00],\n",
       "        [  9.77910483e-12,   1.11062691e-10,   1.96979112e-10,\n",
       "           1.04776123e-11,   0.00000000e+00,   0.00000000e+00,\n",
       "           0.00000000e+00],\n",
       "        [  1.53671647e-11,   4.19104493e-12,   8.38208985e-12,\n",
       "           0.00000000e+00,   0.00000000e+00,   0.00000000e+00,\n",
       "           0.00000000e+00],\n",
       "        [  0.00000000e+00,   0.00000000e+00,   0.00000000e+00,\n",
       "           0.00000000e+00,   0.00000000e+00,   0.00000000e+00,\n",
       "           0.00000000e+00]],\n",
       "\n",
       "       [[  5.08005446e-11,   0.00000000e+00,   0.00000000e+00,\n",
       "           0.00000000e+00,   0.00000000e+00,   0.00000000e+00,\n",
       "           1.38546940e-12],\n",
       "        [  7.62008169e-12,   0.00000000e+00,   0.00000000e+00,\n",
       "           0.00000000e+00,   0.00000000e+00,   0.00000000e+00,\n",
       "           0.00000000e+00],\n",
       "        [  0.00000000e+00,   0.00000000e+00,   0.00000000e+00,\n",
       "           0.00000000e+00,   0.00000000e+00,   0.00000000e+00,\n",
       "           0.00000000e+00],\n",
       "        [  0.00000000e+00,   0.00000000e+00,   0.00000000e+00,\n",
       "           0.00000000e+00,   0.00000000e+00,   0.00000000e+00,\n",
       "           0.00000000e+00],\n",
       "        [  0.00000000e+00,   0.00000000e+00,   0.00000000e+00,\n",
       "           0.00000000e+00,   0.00000000e+00,   0.00000000e+00,\n",
       "           0.00000000e+00],\n",
       "        [  1.14301225e-11,   0.00000000e+00,   0.00000000e+00,\n",
       "           0.00000000e+00,   0.00000000e+00,   0.00000000e+00,\n",
       "           6.92734699e-13],\n",
       "        [  4.09681811e-15,   0.00000000e+00,   0.00000000e+00,\n",
       "           0.00000000e+00,   0.00000000e+00,   0.00000000e+00,\n",
       "           1.76759080e-12]]])"
      ]
     },
     "execution_count": 21,
     "metadata": {},
     "output_type": "execute_result"
    }
   ],
   "source": [
    "box"
   ]
  },
  {
   "cell_type": "code",
   "execution_count": 22,
   "metadata": {},
   "outputs": [],
   "source": [
    "for row in vector.itertuples():\n",
    "    if((row[1]<0) or (row[2]<0) or (row[3]<0) or ((row[1]==0 ) & (row[2]!=0 or row[3]!=0)) or ((row[1]>0) & (row[2]==0) & (row[3]==0))):\n",
    "        continue;\n",
    "    else:\n",
    "        tmp=box[binarySearch(flow_interval,row[1])][binarySearch(speed_interval, row[2])][binarySearch(occupancy_interval,row[3])]\n",
    "        vector.set_value(row[0], 'Prob',tmp)\n"
   ]
  },
  {
   "cell_type": "code",
   "execution_count": 23,
   "metadata": {},
   "outputs": [],
   "source": [
    "#vector"
   ]
  },
  {
   "cell_type": "code",
   "execution_count": 24,
   "metadata": {},
   "outputs": [],
   "source": [
    "vector_sorted=vector.sort(['Prob'], ascending=True)"
   ]
  },
  {
   "cell_type": "code",
   "execution_count": 25,
   "metadata": {},
   "outputs": [],
   "source": [
    "vector_sorted['speed']=vector_sorted.speed.round()\n",
    "vector_sorted['Prob']=vector_sorted.Prob.round(8)"
   ]
  },
  {
   "cell_type": "code",
   "execution_count": 27,
   "metadata": {},
   "outputs": [],
   "source": [
    "#vector_sorted"
   ]
  },
  {
   "cell_type": "code",
   "execution_count": 28,
   "metadata": {},
   "outputs": [],
   "source": [
    "vector_sorted[::100].to_csv('/home/datascience/Downloads/cleaning1/3445/out_vector.tsv', sep='\\t', index=False,)"
   ]
  },
  {
   "cell_type": "code",
   "execution_count": 33,
   "metadata": {},
   "outputs": [
    {
     "data": {
      "text/plain": [
       "'0.14.1'"
      ]
     },
     "execution_count": 33,
     "metadata": {},
     "output_type": "execute_result"
    }
   ],
   "source": [
    "#pd.__version__"
   ]
  }
 ],
 "metadata": {
  "kernelspec": {
   "display_name": "Python 2",
   "language": "python",
   "name": "python2"
  },
  "language_info": {
   "codemirror_mode": {
    "name": "ipython",
    "version": 2
   },
   "file_extension": ".py",
   "mimetype": "text/x-python",
   "name": "python",
   "nbconvert_exporter": "python",
   "pygments_lexer": "ipython2",
   "version": "2.7.14"
  }
 },
 "nbformat": 4,
 "nbformat_minor": 1
}
