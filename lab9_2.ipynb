{
 "metadata": {
  "name": "",
  "signature": "sha256:dd25d6ded6ac00578eef6e6adb79e0403800e5c7e50551b9143a99b185dc98a3"
 },
 "nbformat": 3,
 "nbformat_minor": 0,
 "worksheets": [
  {
   "cells": [
    {
     "cell_type": "code",
     "collapsed": false,
     "input": [
      "import pandas as pd\n",
      "import numpy as np"
     ],
     "language": "python",
     "metadata": {},
     "outputs": [],
     "prompt_number": 1
    },
    {
     "cell_type": "code",
     "collapsed": false,
     "input": [
      "# Demo for Zone 1160\n",
      "flow=pd.read_csv('/home/datascience/Downloads/cleaning1/1160/flow.tsv', names=['f1','f2','f3'],sep='\\t',na_values=['-'])\n",
      "occupancy=pd.read_csv('/home/datascience/Downloads/cleaning1/1160/occupancy.tsv', names=['o1','o2','o3'],sep='\\t',na_values=['-'])\n",
      "speed=pd.read_csv('/home/datascience/Downloads/cleaning1/1160/speed.tsv', names=['s1','s2','s3'],sep='\\t',na_values=['-'])\n",
      "v_df=pd.concat([flow,speed,occupancy],axis=1)\n",
      "v1=v_df[['f1','s1','o1']]\n",
      "v2=v_df[['f2','s2','o2']]\n",
      "v3=v_df[['f3','s3','o3']]\n",
      "\n",
      "#change column name to the same so we can cancat three vectors into one\n",
      "v1.columns=['flow','speed','occupancy']\n",
      "v2.columns=['flow','speed','occupancy']\n",
      "v3.columns=['flow','speed','occupancy']\n",
      "\n",
      "vector=pd.concat([v1,v2,v3],axis=0)\n",
      "vector=vector.reset_index(drop=True)"
     ],
     "language": "python",
     "metadata": {},
     "outputs": [],
     "prompt_number": 2
    },
    {
     "cell_type": "code",
     "collapsed": false,
     "input": [
      "# Demo for Zone 3232\n",
      "flow=pd.read_csv('/home/datascience/Downloads/cleaning1/3232/flow.tsv', names=['f1','f2'],sep='\\t',na_values=['-'])\n",
      "occupancy=pd.read_csv('/home/datascience/Downloads/cleaning1/3232/occupancy.tsv', names=['o1','o2'],sep='\\t',na_values=['-'])\n",
      "speed=pd.read_csv('/home/datascience/Downloads/cleaning1/3232/speed.tsv', names=['s1','s2'],sep='\\t',na_values=['-'])\n",
      "v_df=pd.concat([flow,occupancy,speed],axis=1)\n",
      "v1=v_df[['f1','s1','o1']]\n",
      "v2=v_df[['f2','s2','o2']]\n",
      "#change column name to the same so we can cancat three vectors into one\n",
      "v1.columns=['flow','speed','occupancy']\n",
      "v2.columns=['flow','speed','occupancy']\n",
      "vector=pd.concat([v1,v2],axis=0)\n",
      "vector=vector.reset_index(drop=True)"
     ],
     "language": "python",
     "metadata": {},
     "outputs": [],
     "prompt_number": 2
    },
    {
     "cell_type": "code",
     "collapsed": false,
     "input": [
      "# Demo for Zone 3445\n",
      "flow=pd.read_csv('/home/datascience/Downloads/cleaning1/3445/flow.tsv', names=['f1','f2','f3','f4'],sep='\\t',na_values=['-'])\n",
      "occupancy=pd.read_csv('/home/datascience/Downloads/cleaning1/3445/occupancy.tsv', names=['o1','o2','o3','o4'],sep='\\t',na_values=['-'])\n",
      "speed=pd.read_csv('/home/datascience/Downloads/cleaning1/3445/speed.tsv', names=['s1','s2','s3','s4'],sep='\\t',na_values=['-'])\n",
      "v_df=pd.concat([flow,occupancy,speed],axis=1)\n",
      "v1=v_df[['f1','s1','o1']]\n",
      "v2=v_df[['f2','s2','o2']]\n",
      "v3=v_df[['f3','s3','o3']]\n",
      "v4=v_df[['f4','s4','o4']]\n",
      "#change column name to the same so we can cancat three vectors into one\n",
      "v1.columns=['flow','speed','occupancy']\n",
      "v2.columns=['flow','speed','occupancy']\n",
      "v3.columns=['flow','speed','occupancy']\n",
      "v4.columns=['flow','speed','occupancy']\n",
      "vector=pd.concat([v1,v2,v3,v4],axis=0)\n",
      "vector=vector.reset_index(drop=True)"
     ],
     "language": "python",
     "metadata": {},
     "outputs": [],
     "prompt_number": 2
    },
    {
     "cell_type": "code",
     "collapsed": false,
     "input": [
      "# Demo for Zone 3451\n",
      "flow=pd.read_csv('/home/datascience/Downloads/cleaning1/3451/flow.tsv', names=['f1'],sep='\\t',na_values=['-'])\n",
      "occupancy=pd.read_csv('/home/datascience/Downloads/cleaning1/3451/occupancy.tsv', names=['o1'],sep='\\t',na_values=['-'])\n",
      "speed=pd.read_csv('/home/datascience/Downloads/cleaning1/3451/speed.tsv', names=['s1'],sep='\\t',na_values=['-'])\n",
      "vector=pd.concat([flow,speed,occupancy],axis=1)\n",
      "vector.columns=['flow','speed','occupancy']"
     ],
     "language": "python",
     "metadata": {},
     "outputs": [],
     "prompt_number": 2
    },
    {
     "cell_type": "code",
     "collapsed": false,
     "input": [
      "# Demo for Zone 3532\n",
      "flow=pd.read_csv('/home/datascience/Downloads/cleaning1/3532/flow.tsv', names=['f1','f2','f3','f4','f5','f6'],sep='\\t',na_values=['-'])\n",
      "occupancy=pd.read_csv('/home/datascience/Downloads/cleaning1/3532/occupancy.tsv', names=['o1','o2','o3','o4','o5','o6'],sep='\\t',na_values=['-'])\n",
      "speed=pd.read_csv('/home/datascience/Downloads/cleaning1/3532/speed.tsv', names=['s1','s2','s3','s4','s5','s6'],sep='\\t',na_values=['-'])\n",
      "v_df=pd.concat([flow,occupancy,speed],axis=1)\n",
      "v1=v_df[['f1','s1','o1']]\n",
      "v2=v_df[['f2','s2','o2']]\n",
      "v3=v_df[['f3','s3','o3']]\n",
      "v4=v_df[['f4','s4','o4']]\n",
      "v5=v_df[['f5','s5','o5']]\n",
      "v6=v_df[['f6','s6','o6']]\n",
      "#change column name to the same so we can cancat three vectors into one\n",
      "v1.columns=['flow','speed','occupancy']\n",
      "v2.columns=['flow','speed','occupancy']\n",
      "v3.columns=['flow','speed','occupancy']\n",
      "v4.columns=['flow','speed','occupancy']\n",
      "v5.columns=['flow','speed','occupancy']\n",
      "v6.columns=['flow','speed','occupancy']\n",
      "vector=pd.concat([v1,v2,v3,v4,v5,v6],axis=0)\n",
      "vector=vector.reset_index(drop=True)"
     ],
     "language": "python",
     "metadata": {},
     "outputs": [],
     "prompt_number": 2
    },
    {
     "cell_type": "code",
     "collapsed": false,
     "input": [
      "import matplotlib.pyplot as plt\n",
      "%matplotlib inline\n",
      "binwidth=1\n",
      "plt.hist(vector['flow'], bins=range(int(min(vector['flow'])), int(max(vector['flow']))+1, binwidth), normed=True)\n",
      "plt.xlabel('Flow')\n",
      "plt.ylabel('Frequency')"
     ],
     "language": "python",
     "metadata": {},
     "outputs": [
      {
       "metadata": {},
       "output_type": "pyout",
       "prompt_number": 4,
       "text": [
        "<matplotlib.text.Text at 0x7f5f1a7bb850>"
       ]
      },
      {
       "metadata": {},
       "output_type": "display_data",
       "png": "[encoded data removed]",
       "text": [
        "<matplotlib.figure.Figure at 0x7f5f3287c950>"
       ]
      }
     ],
     "prompt_number": 4
    },
    {
     "cell_type": "code",
     "collapsed": false,
     "input": [
      "import matplotlib.pyplot as plt\n",
      "%matplotlib inline\n",
      "binwidth=1\n",
      "plt.hist(vector['speed'], bins=range(int(min(vector['speed'])), int(max(vector['speed']))+1, binwidth), normed=True)\n",
      "plt.xlabel('Speed')\n",
      "plt.ylabel('Frequency')"
     ],
     "language": "python",
     "metadata": {},
     "outputs": [
      {
       "metadata": {},
       "output_type": "pyout",
       "prompt_number": 5,
       "text": [
        "<matplotlib.text.Text at 0x7f5f1a50f9d0>"
       ]
      },
      {
       "metadata": {},
       "output_type": "display_data",
       "png": "[encoded data removed]",
       "text": [
        "<matplotlib.figure.Figure at 0x7f5f2b982e90>"
       ]
      }
     ],
     "prompt_number": 5
    },
    {
     "cell_type": "code",
     "collapsed": false,
     "input": [
      "import matplotlib.pyplot as plt\n",
      "%matplotlib inline\n",
      "binwidth=1\n",
      "plt.hist(vector['occupancy'], bins=range(int(min(vector['occupancy'])), int(max(vector['occupancy']))+1, binwidth), normed=True)\n",
      "plt.xlabel('Occupancy')\n",
      "plt.ylabel('Frequency')"
     ],
     "language": "python",
     "metadata": {},
     "outputs": [
      {
       "metadata": {},
       "output_type": "pyout",
       "prompt_number": 6,
       "text": [
        "<matplotlib.text.Text at 0x7f5f1a292c10>"
       ]
      },
      {
       "metadata": {},
       "output_type": "display_data",
       "png": "[encoded data removed]",
       "text": [
        "<matplotlib.figure.Figure at 0x7f5f1a8c0e50>"
       ]
      }
     ],
     "prompt_number": 6
    },
    {
     "cell_type": "code",
     "collapsed": false,
     "input": [
      "max(vector['flow'])"
     ],
     "language": "python",
     "metadata": {},
     "outputs": [
      {
       "metadata": {},
       "output_type": "pyout",
       "prompt_number": 7,
       "text": [
        "76.0"
       ]
      }
     ],
     "prompt_number": 7
    },
    {
     "cell_type": "code",
     "collapsed": false,
     "input": [
      "max(vector['speed'])"
     ],
     "language": "python",
     "metadata": {},
     "outputs": [
      {
       "metadata": {},
       "output_type": "pyout",
       "prompt_number": 8,
       "text": [
        "130.90000000000001"
       ]
      }
     ],
     "prompt_number": 8
    },
    {
     "cell_type": "code",
     "collapsed": false,
     "input": [
      "max(vector['occupancy'])"
     ],
     "language": "python",
     "metadata": {},
     "outputs": [
      {
       "metadata": {},
       "output_type": "pyout",
       "prompt_number": 9,
       "text": [
        "100.0"
       ]
      }
     ],
     "prompt_number": 9
    },
    {
     "cell_type": "code",
     "collapsed": false,
     "input": [
      "from mpl_toolkits.mplot3d import Axes3D\n",
      "#%matplotlib qt"
     ],
     "language": "python",
     "metadata": {},
     "outputs": [],
     "prompt_number": 48
    },
    {
     "cell_type": "code",
     "collapsed": false,
     "input": [
      "threed=plt.figure().gca(projection='3d')\n",
      "threed.scatter(vector1[::100]['f1'], vector1[::100]['o1'], vector1[::100]['s1'])\n",
      "threed.set_xlabel('Flow')\n",
      "threed.set_ylabel('Occupancy')\n",
      "threed.set_zlabel('Speed')\n",
      "plt.show()"
     ],
     "language": "python",
     "metadata": {},
     "outputs": [
      {
       "metadata": {},
       "output_type": "display_data",
       "png": "[encoded data removed]",
       "text": [
        "<matplotlib.figure.Figure at 0x7f1e26b63fd0>"
       ]
      }
     ],
     "prompt_number": 49
    },
    {
     "cell_type": "code",
     "collapsed": false,
     "input": [
      "# Define the interval for zone 1160\n",
      "flow_interval=[0,10,20,30,40,50,75,100,200,250,300]\n",
      "occupancy_interval=[0,20,50,70,90,110,130,160,190,220,250]\n",
      "speed_interval=[0,20,30,40,50,60,70,80,100,200,250]\n",
      "N=10"
     ],
     "language": "python",
     "metadata": {},
     "outputs": [],
     "prompt_number": 9
    },
    {
     "cell_type": "code",
     "collapsed": false,
     "input": [
      "# Define the interval for zone 3232\n",
      "flow_interval=[0,10,20,30,40,80]\n",
      "occupancy_interval=[0,10,20,50,75,110]\n",
      "speed_interval=[0,30,50,60,100,140]\n",
      "N=5"
     ],
     "language": "python",
     "metadata": {},
     "outputs": [],
     "prompt_number": 10
    },
    {
     "cell_type": "code",
     "collapsed": false,
     "input": [
      "# Define the interval for zone 3445\n",
      "flow_interval=[0,10,20,30,40,50,150,260]\n",
      "occupancy_interval=[0,10,20,30,40,80,100,6300]\n",
      "speed_interval=[0,30,50,60,70,100,150,205]\n",
      "N=7"
     ],
     "language": "python",
     "metadata": {},
     "outputs": [],
     "prompt_number": 11
    },
    {
     "cell_type": "code",
     "collapsed": false,
     "input": [
      "# Define the interval for zone 3451\n",
      "flow_interval=[0,10,20,30,40,70]\n",
      "occupancy_interval=[0,5,10,20,60,101]\n",
      "speed_interval=[0,30,50,60,140,210]\n",
      "N=5"
     ],
     "language": "python",
     "metadata": {},
     "outputs": [],
     "prompt_number": 12
    },
    {
     "cell_type": "code",
     "collapsed": false,
     "input": [
      "# Define the interval for zone 3532\n",
      "flow_interval=[0,10,20,30,40,60,100]\n",
      "occupancy_interval=[0,10,20,40,60,80,110]\n",
      "speed_interval=[0,30,50,80,100,150,210]\n",
      "N=6"
     ],
     "language": "python",
     "metadata": {},
     "outputs": [],
     "prompt_number": 9
    },
    {
     "cell_type": "code",
     "collapsed": false,
     "input": [
      "box=np.zeros((N,N,N))"
     ],
     "language": "python",
     "metadata": {},
     "outputs": [],
     "prompt_number": 11
    },
    {
     "cell_type": "code",
     "collapsed": false,
     "input": [
      "# del vector['Prob']"
     ],
     "language": "python",
     "metadata": {},
     "outputs": [],
     "prompt_number": 12
    },
    {
     "cell_type": "code",
     "collapsed": false,
     "input": [
      "vector['Prob']=0.0\n",
      "vector.info()"
     ],
     "language": "python",
     "metadata": {},
     "outputs": [
      {
       "output_type": "stream",
       "stream": "stdout",
       "text": [
        "<class 'pandas.core.frame.DataFrame'>\n",
        "Int64Index: 6137046 entries, 0 to 6137045\n",
        "Data columns (total 4 columns):\n",
        "flow         float64\n",
        "speed        float64\n",
        "occupancy    float64\n",
        "Prob         float64\n",
        "dtypes: float64(4)"
       ]
      }
     ],
     "prompt_number": 13
    },
    {
     "cell_type": "code",
     "collapsed": false,
     "input": [
      "def binarySearch(alist, item):\n",
      "    first=0\n",
      "    last=len(alist)-1\n",
      "    while(first<last):\n",
      "        midpoint=(first+last)/2\n",
      "        if(alist[midpoint]==item):\n",
      "            return midpoint\n",
      "        else:\n",
      "            if(alist[midpoint]<item):\n",
      "                first=midpoint+1\n",
      "            else:\n",
      "                last=midpoint\n",
      "    if(item>=alist[first]):\n",
      "        return first\n",
      "    else:\n",
      "        return first-1"
     ],
     "language": "python",
     "metadata": {},
     "outputs": [],
     "prompt_number": 14
    },
    {
     "cell_type": "code",
     "collapsed": false,
     "input": [
      "invalid_vector_count = 0;\n",
      "\n",
      "for row in vector.itertuples():\n",
      "    if((row[1]<0) or (row[2]<0) or (row[3]<0) or ((row[1]==0 ) & (row[2]!=0 or row[3]!=0)) or ((row[1]>0) & (row[2]==0) & (row[3]==0))):\n",
      "        invalid_vector_count+=1\n",
      "    else:\n",
      "        box[binarySearch(flow_interval,row[1])][binarySearch(speed_interval, row[2])][binarySearch(occupancy_interval,row[3])] +=1;\n"
     ],
     "language": "python",
     "metadata": {},
     "outputs": [],
     "prompt_number": 16
    },
    {
     "cell_type": "code",
     "collapsed": false,
     "input": [
      "invalid_vector_count"
     ],
     "language": "python",
     "metadata": {},
     "outputs": [
      {
       "metadata": {},
       "output_type": "pyout",
       "prompt_number": 15,
       "text": [
        "2640029"
       ]
      }
     ],
     "prompt_number": 15
    },
    {
     "cell_type": "code",
     "collapsed": false,
     "input": [
      "len(vector)"
     ],
     "language": "python",
     "metadata": {},
     "outputs": [
      {
       "metadata": {},
       "output_type": "pyout",
       "prompt_number": 16,
       "text": [
        "11326053"
       ]
      }
     ],
     "prompt_number": 16
    },
    {
     "cell_type": "code",
     "collapsed": false,
     "input": [
      "total_vectors=len(vector)-invalid_vector_count"
     ],
     "language": "python",
     "metadata": {},
     "outputs": [],
     "prompt_number": 17
    },
    {
     "cell_type": "code",
     "collapsed": false,
     "input": [
      "for i in range(0,N):\n",
      "    for j in range(0,N):\n",
      "        for k in range(0,N):\n",
      "            box[i][j][k] /= total_vectors*(speed_interval[k+1]-speed_interval[k])*(occupancy_interval[j+1]-occupancy_interval[j])*(flow_interval[i+1]-flow_interval[i])"
     ],
     "language": "python",
     "metadata": {},
     "outputs": [],
     "prompt_number": 18
    },
    {
     "cell_type": "code",
     "collapsed": false,
     "input": [
      "for row in vector.itertuples():\n",
      "    if((row[1]<0) or (row[2]<0) or (row[3]<0) or ((row[1]==0 ) & (row[2]!=0 or row[3]!=0)) or ((row[1]>0) & (row[2]==0) & (row[3]==0))):\n",
      "        continue;\n",
      "    else:\n",
      "        tmp=box[binarySearch(flow_interval,row[1])][binarySearch(speed_interval, row[2])][binarySearch(occupancy_interval,row[3])]\n",
      "        vector.set_value(row[0], 'Prob',tmp)\n"
     ],
     "language": "python",
     "metadata": {},
     "outputs": [],
     "prompt_number": 19
    },
    {
     "cell_type": "code",
     "collapsed": false,
     "input": [
      "vector_sorted=vector.sort(['Prob'], ascending=True)"
     ],
     "language": "python",
     "metadata": {},
     "outputs": [],
     "prompt_number": 20
    },
    {
     "cell_type": "code",
     "collapsed": false,
     "input": [
      "vector_sorted['speed']=vector_sorted.speed.round()\n",
      "vector_sorted['Prob']=vector_sorted.Prob.round(8)"
     ],
     "language": "python",
     "metadata": {},
     "outputs": [],
     "prompt_number": 21
    },
    {
     "cell_type": "code",
     "collapsed": false,
     "input": [
      "vector_sorted[::100].to_csv('/home/datascience/Downloads/cleaning1/1160/out_vector.tsv', sep='\\t', index=False,)"
     ],
     "language": "python",
     "metadata": {},
     "outputs": [],
     "prompt_number": 22
    }
   ],
   "metadata": {}
  }
 ]
}